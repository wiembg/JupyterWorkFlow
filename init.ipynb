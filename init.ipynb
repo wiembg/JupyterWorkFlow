{
 "cells": [
  {
   "cell_type": "code",
   "execution_count": 1,
   "id": "8af2138b",
   "metadata": {},
   "outputs": [
    {
     "name": "stdout",
     "output_type": "stream",
     "text": [
      "10\n"
     ]
    }
   ],
   "source": [
    "x=2\n",
    "y=5\n",
    "z=x*y\n",
    "print(z)"
   ]
  },
  {
   "cell_type": "code",
   "execution_count": 39,
   "id": "c93dd743",
   "metadata": {},
   "outputs": [],
   "source": [
    "def signe(x):\n",
    " if(x>0):\n",
    "  print(x,'positif')\n",
    " elif x==0:\n",
    "  print(x,'nul')\n",
    " else:\n",
    "  print(x,'negatif')"
   ]
  },
  {
   "cell_type": "code",
   "execution_count": 32,
   "id": "bf9b929d",
   "metadata": {},
   "outputs": [
    {
     "name": "stdout",
     "output_type": "stream",
     "text": [
      "i a pour valeur 0\n",
      "i a pour valeur 1\n",
      "i a pour valeur 2\n",
      "i a pour valeur 3\n"
     ]
    }
   ],
   "source": [
    "for i in range(4):\n",
    "    print(\"i a pour valeur\", i)"
   ]
  },
  {
   "cell_type": "code",
   "execution_count": 12,
   "id": "2e0f1a3e",
   "metadata": {},
   "outputs": [
    {
     "name": "stdout",
     "output_type": "stream",
     "text": [
      "0\n",
      "1\n",
      "2\n",
      "3\n",
      "4\n",
      "5\n",
      "6\n",
      "7\n",
      "8\n",
      "9\n"
     ]
    }
   ],
   "source": [
    "i=0\n",
    "while i<10:\n",
    "    print(i)\n",
    "    i=i+1"
   ]
  },
  {
   "cell_type": "code",
   "execution_count": 17,
   "id": "0789c1cf",
   "metadata": {},
   "outputs": [
    {
     "name": "stdout",
     "output_type": "stream",
     "text": [
      "3.5\n",
      "-1.5\n",
      "2.5\n",
      "0.4\n",
      "1.0\n",
      "True\n",
      "False\n",
      "False\n",
      "True\n"
     ]
    }
   ],
   "source": [
    "x=1\n",
    "y=2.5\n",
    "#arithmitique\n",
    "print(x+y)\n",
    "print(x-y)\n",
    "print(x*y)\n",
    "print(x/y)\n",
    "print(x**y)\n",
    "#comparaison\n",
    "print(x<=y)\n",
    "print(x>=y)\n",
    "print(x==y)\n",
    "print(x!=y)\n"
   ]
  },
  {
   "cell_type": "code",
   "execution_count": 26,
   "id": "2b40e7bc",
   "metadata": {},
   "outputs": [
    {
     "name": "stdout",
     "output_type": "stream",
     "text": [
      "28\n"
     ]
    }
   ],
   "source": [
    "f=lambda y,x: x**2+y\n",
    "print(f(3,5))"
   ]
  },
  {
   "cell_type": "code",
   "execution_count": 28,
   "id": "20cfb1fe",
   "metadata": {},
   "outputs": [
    {
     "name": "stdout",
     "output_type": "stream",
     "text": [
      "bonjour\n",
      "688.0 Joules\n"
     ]
    },
    {
     "data": {
      "text/plain": [
       "688.0"
      ]
     },
     "execution_count": 28,
     "metadata": {},
     "output_type": "execute_result"
    }
   ],
   "source": [
    "def e_potentielle(masse,hauteur,g):\n",
    "    E=masse*hauteur*g\n",
    "    print(E,'Joules')\n",
    "    return E\n",
    "print('bonjour')\n",
    "e_potentielle(8,20,4.3)\n",
    "                 "
   ]
  },
  {
   "cell_type": "code",
   "execution_count": 44,
   "id": "ffa0db28",
   "metadata": {},
   "outputs": [
    {
     "name": "stdout",
     "output_type": "stream",
     "text": [
      "i  10\n",
      "i  9\n",
      "i  8\n",
      "i  7\n",
      "i  6\n",
      "i  5\n",
      "i  4\n",
      "i  3\n",
      "i  2\n",
      "i  1\n",
      "i  0\n",
      "i  -1\n",
      "i  -2\n",
      "i  -3\n",
      "i  -4\n",
      "i  -5\n",
      "i  -6\n",
      "i  -7\n",
      "i  -8\n",
      "i  -9\n"
     ]
    }
   ],
   "source": [
    "for i in range(10,-10,-1):\n",
    "    #pas=2\n",
    "    print(\"i \", i)"
   ]
  },
  {
   "cell_type": "code",
   "execution_count": 50,
   "id": "2e837423",
   "metadata": {},
   "outputs": [
    {
     "name": "stdout",
     "output_type": "stream",
     "text": [
      "tunis\n",
      "sousse\n",
      "['tunis', 'nabeul', 'bizert']\n",
      "['bizert', 'sousse']\n"
     ]
    }
   ],
   "source": [
    "#listes\n",
    "liste_1=[1,4,5,6,7,8]\n",
    "villes=['tunis','nabeul','bizert','sousse']\n",
    "all=[liste_1,villes]\n",
    "liste_3=[]\n",
    "print(villes[0])\n",
    "print(villes[-1])#dernier element\n",
    "print(villes[0:3])#de 0jusqu'a 3\n",
    "print(villes[2:])\n",
    "villes.append('mestir')"
   ]
  },
  {
   "cell_type": "code",
   "execution_count": 1,
   "id": "699b45dc",
   "metadata": {},
   "outputs": [],
   "source": [
    "#tuple(a ne pas modifier)\n",
    "tuple=(1,2,3,4,5)\n",
    "\n"
   ]
  },
  {
   "cell_type": "code",
   "execution_count": 4,
   "id": "e2d5b6b7",
   "metadata": {},
   "outputs": [
    {
     "data": {
      "text/plain": [
       "{'num1': {'chien': 'dog', 'chat': 'cat', 'souris': 'mousse'},\n",
       " 'num2': {'arbre': 'tree', 'fleur': 'flower', 'feuille': 'paper'}}"
      ]
     },
     "execution_count": 4,
     "metadata": {},
     "output_type": "execute_result"
    }
   ],
   "source": [
    "dict1 ={\n",
    "    \"chien\":\"dog\",\n",
    "    \"chat\":\"cat\",\n",
    "    \"souris\":\"mousse\"\n",
    "}\n",
    "dict2={\n",
    "    \"arbre\":\"tree\",\n",
    "    \"fleur\":\"flower\",\n",
    "    \"feuille\":\"paper\"\n",
    "}\n",
    "dict={\n",
    "   \"num1\" :dict1,\n",
    "   \"num2\" :dict2\n",
    "}\n",
    "dict"
   ]
  },
  {
   "cell_type": "code",
   "execution_count": 5,
   "id": "dddcbee2",
   "metadata": {},
   "outputs": [
    {
     "data": {
      "text/plain": [
       "dict_values([{'chien': 'dog', 'chat': 'cat', 'souris': 'mousse'}, {'arbre': 'tree', 'fleur': 'flower', 'feuille': 'paper'}])"
      ]
     },
     "execution_count": 5,
     "metadata": {},
     "output_type": "execute_result"
    }
   ],
   "source": [
    "dict.values()"
   ]
  },
  {
   "cell_type": "code",
   "execution_count": 8,
   "id": "c1e47ce6",
   "metadata": {},
   "outputs": [
    {
     "data": {
      "text/plain": [
       "dict_keys(['num1', 'num2'])"
      ]
     },
     "execution_count": 8,
     "metadata": {},
     "output_type": "execute_result"
    }
   ],
   "source": [
    "dict.keys()"
   ]
  },
  {
   "cell_type": "code",
   "execution_count": 9,
   "id": "71b5c8a9",
   "metadata": {},
   "outputs": [
    {
     "data": {
      "text/plain": [
       "3"
      ]
     },
     "execution_count": 9,
     "metadata": {},
     "output_type": "execute_result"
    }
   ],
   "source": [
    "len(dict1)"
   ]
  },
  {
   "cell_type": "code",
   "execution_count": 14,
   "id": "d6a8e36e",
   "metadata": {},
   "outputs": [
    {
     "name": "stdout",
     "output_type": "stream",
     "text": [
      "None\n"
     ]
    },
    {
     "data": {
      "text/plain": [
       "'tree'"
      ]
     },
     "execution_count": 14,
     "metadata": {},
     "output_type": "execute_result"
    }
   ],
   "source": [
    "dict2.get(\"sable\") \n",
    "#n existe pas sable return nothing\n",
    "print(dict2.get(\"sable\"))\n",
    "dict2.get(\"arbre\") "
   ]
  },
  {
   "cell_type": "code",
   "execution_count": 20,
   "id": "c03c386d",
   "metadata": {},
   "outputs": [
    {
     "data": {
      "text/plain": [
       "{'menthe': 'par défaut', 'sauge': 'par défaut', 'lavande': 'par défaut'}"
      ]
     },
     "execution_count": 20,
     "metadata": {},
     "output_type": "execute_result"
    }
   ],
   "source": [
    "plantes=(\"menthe\",\"sauge\",\"lavande\")\n",
    "dict2.fromkeys(plantes)\n",
    "#ajouter des clés\n",
    "dict2.fromkeys(plantes,\"par défaut\")\n",
    "#associer  valeur\n"
   ]
  },
  {
   "cell_type": "code",
   "execution_count": 23,
   "id": "24e1a8c4",
   "metadata": {},
   "outputs": [
    {
     "name": "stdout",
     "output_type": "stream",
     "text": [
      "('arbre', 'tree')\n",
      "('fleur', 'flower')\n",
      "('feuille', 'paper')\n"
     ]
    }
   ],
   "source": [
    "for i in dict2.items():\n",
    "    print(i)\n",
    "   \n"
   ]
  },
  {
   "cell_type": "code",
   "execution_count": 24,
   "id": "f501f083",
   "metadata": {},
   "outputs": [
    {
     "name": "stdout",
     "output_type": "stream",
     "text": [
      "arbre tree\n",
      "fleur flower\n",
      "feuille paper\n"
     ]
    }
   ],
   "source": [
    " for a,b in dict2.items():\n",
    "    print(a,b)"
   ]
  },
  {
   "cell_type": "code",
   "execution_count": 27,
   "id": "8958380b",
   "metadata": {},
   "outputs": [],
   "source": [
    "classeur={\n",
    "    \"pos\":[],\n",
    "    \"neg\":[]\n",
    "}"
   ]
  },
  {
   "cell_type": "code",
   "execution_count": 33,
   "id": "d53cbf11",
   "metadata": {},
   "outputs": [],
   "source": [
    "def trier(classeur,nombre):\n",
    "    if nombre>0:\n",
    "      classeur['pos'].append(nombre)\n",
    "    else:\n",
    "      classeur['neg'].append(nombre)\n",
    "    \n",
    "    return classeur\n"
   ]
  },
  {
   "cell_type": "raw",
   "id": "3cb4336f",
   "metadata": {},
   "source": []
  }
 ],
 "metadata": {
  "kernelspec": {
   "display_name": "Python 3",
   "language": "python",
   "name": "python3"
  },
  "language_info": {
   "codemirror_mode": {
    "name": "ipython",
    "version": 3
   },
   "file_extension": ".py",
   "mimetype": "text/x-python",
   "name": "python",
   "nbconvert_exporter": "python",
   "pygments_lexer": "ipython3",
   "version": "3.8.8"
  }
 },
 "nbformat": 4,
 "nbformat_minor": 5
}
